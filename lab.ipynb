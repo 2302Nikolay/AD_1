{
 "cells": [
  {
   "cell_type": "markdown",
   "metadata": {},
   "source": [
    "<h1><center>Лабораторная работа №1</center></h1>\n",
    "<h2><center>по дисциплине «Анализ данных».</center></h2>\n",
    "\n",
    "> Задание:\n",
    "\n",
    "Найти датасет.\n",
    "* Произвести выборки,\n",
    "* определить t-критерий Стьюдента.\n",
    "* anova test\n",
    "* Сделать выводы."
   ]
  },
  {
   "cell_type": "markdown",
   "metadata": {},
   "source": [
    "* H0 - среднии температуры в 2000 и 2013 годах равны\n",
    "* H1 - среднии температуры различаются"
   ]
  },
  {
   "cell_type": "code",
   "execution_count": 42,
   "metadata": {},
   "outputs": [],
   "source": [
    "import scipy.stats as stats\n",
    "import matplotlib.pyplot as plt\n",
    "import pandas as pd\n",
    "\n",
    "%matplotlib inline"
   ]
  },
  {
   "cell_type": "code",
   "execution_count": 43,
   "metadata": {},
   "outputs": [],
   "source": [
    "# Загрузка данных из CSV-файла\n",
    "df = pd.read_csv('Temp_and_rain.csv')\n"
   ]
  },
  {
   "cell_type": "code",
   "execution_count": 46,
   "metadata": {},
   "outputs": [
    {
     "name": "stdout",
     "output_type": "stream",
     "text": [
      "TtestResult(statistic=-0.0048803062448069656, pvalue=0.9961500785810238, df=22.0)\n",
      "0.9961500785810238\n"
     ]
    }
   ],
   "source": [
    "# Выделение данных для 2021 и 2022 годов\n",
    "tem_2000 = df['tem'][df['Year'] == 2000]\n",
    "tem_2013 = df['tem'][df['Year'] == 2013]\n",
    "\n",
    "# Проведение t-теста\n",
    "result = stats.ttest_ind(tem_2000, tem_2013)\n",
    "\n",
    "print(result)\n",
    "print(result.pvalue)"
   ]
  },
  {
   "cell_type": "markdown",
   "metadata": {},
   "source": [
    "#### Вывод: Из того, что значение р-теста (0.9) больше, чем альфа = 0.05, следует, что мы можем отвергнуть нулевую гипотезу и утверждать, что температура в 2000-м году отличаются"
   ]
  },
  {
   "cell_type": "markdown",
   "metadata": {},
   "source": [
    "### Anova test\n",
    "Построим блочную диаграмму:"
   ]
  },
  {
   "cell_type": "code",
   "execution_count": 40,
   "metadata": {},
   "outputs": [
    {
     "data": {
      "text/plain": [
       "Text(0.5, 1.0, 'Температура воздуха в Дели')"
      ]
     },
     "execution_count": 40,
     "metadata": {},
     "output_type": "execute_result"
    },
    {
     "data": {
      "image/png": "[encoded data removed]",
      "text/plain": [
       "<Figure size 640x480 with 1 Axes>"
      ]
     },
     "metadata": {},
     "output_type": "display_data"
    }
   ],
   "source": [
    "plt.boxplot([tem_2000, tem_2013], labels=[\"2000\", \"2013\"])\n",
    "plt.title(\"Температура воздуха в Дели\")"
   ]
  },
  {
   "cell_type": "code",
   "execution_count": 41,
   "metadata": {},
   "outputs": [
    {
     "data": {
      "text/plain": [
       "F_onewayResult(statistic=2.381738904307663e-05, pvalue=0.9961500785810357)"
      ]
     },
     "execution_count": 41,
     "metadata": {},
     "output_type": "execute_result"
    }
   ],
   "source": [
    "stats.f_oneway(tem_2000, tem_2013)"
   ]
  },
  {
   "cell_type": "markdown",
   "metadata": {},
   "source": [
    "### Вывод: P < 0.05, следовательно, мы можем отклонить нулевую (Н0) гипотезу."
   ]
  }
 ],
 "metadata": {
  "kernelspec": {
   "display_name": "Python 3",
   "language": "python",
   "name": "python3"
  },
  "language_info": {
   "codemirror_mode": {
    "name": "ipython",
    "version": 3
   },
   "file_extension": ".py",
   "mimetype": "text/x-python",
   "name": "python",
   "nbconvert_exporter": "python",
   "pygments_lexer": "ipython3",
   "version": "3.11.1"
  }
 },
 "nbformat": 4,
 "nbformat_minor": 2
}
